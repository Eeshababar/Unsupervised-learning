{
  "nbformat": 4,
  "nbformat_minor": 0,
  "metadata": {
    "colab": {
      "provenance": []
    },
    "kernelspec": {
      "name": "python3",
      "display_name": "Python 3"
    },
    "language_info": {
      "name": "python"
    },
    "gpuClass": "standard"
  },
  "cells": [
    {
      "cell_type": "code",
      "execution_count": null,
      "metadata": {
        "colab": {
          "base_uri": "https://localhost:8080/"
        },
        "id": "vhRden3SB6CN",
        "outputId": "2fc8753c-88f5-4458-c1c2-9e9e32d9ef79"
      },
      "outputs": [
        {
          "output_type": "stream",
          "name": "stdout",
          "text": [
            "Looking in indexes: https://pypi.org/simple, https://us-python.pkg.dev/colab-wheels/public/simple/\n",
            "Collecting kneed\n",
            "  Downloading kneed-0.8.1-py2.py3-none-any.whl (10 kB)\n",
            "Requirement already satisfied: numpy>=1.14.2 in /usr/local/lib/python3.7/dist-packages (from kneed) (1.21.6)\n",
            "Requirement already satisfied: scipy>=1.0.0 in /usr/local/lib/python3.7/dist-packages (from kneed) (1.7.3)\n",
            "Installing collected packages: kneed\n",
            "Successfully installed kneed-0.8.1\n"
          ]
        }
      ],
      "source": [
        "import matplotlib.pyplot as plt\n",
        "!pip install kneed"
      ]
    },
    {
      "cell_type": "code",
      "source": [
        "!pip install kneed"
      ],
      "metadata": {
        "colab": {
          "base_uri": "https://localhost:8080/"
        },
        "id": "IjNqvzUtFBNM",
        "outputId": "55cf4f75-4cc2-4a2a-b07c-ed2ec6ab4247"
      },
      "execution_count": null,
      "outputs": [
        {
          "output_type": "stream",
          "name": "stdout",
          "text": [
            "Looking in indexes: https://pypi.org/simple, https://us-python.pkg.dev/colab-wheels/public/simple/\n",
            "Requirement already satisfied: kneed in /usr/local/lib/python3.7/dist-packages (0.8.1)\n",
            "Requirement already satisfied: numpy>=1.14.2 in /usr/local/lib/python3.7/dist-packages (from kneed) (1.21.6)\n",
            "Requirement already satisfied: scipy>=1.0.0 in /usr/local/lib/python3.7/dist-packages (from kneed) (1.7.3)\n"
          ]
        }
      ]
    },
    {
      "cell_type": "code",
      "source": [
        "from kneed import KneeLocator\n",
        "from sklearn.datasets import make_blobs\n",
        "from sklearn.cluster import KMeans\n",
        "from sklearn.preprocessing import StandardScaler\n",
        "\n"
      ],
      "metadata": {
        "id": "nrN968GpDFzu"
      },
      "execution_count": null,
      "outputs": []
    },
    {
      "cell_type": "markdown",
      "source": [
        "make_blobs() returns a tuple of two values:\n",
        "\n",
        "A two-dimensional NumPy array with the x- and y-values for each of the samples\n",
        "A one-dimensional NumPy array containing the cluster labels for each sample"
      ],
      "metadata": {
        "id": "LtdpESMaSPA_"
      }
    },
    {
      "cell_type": "markdown",
      "source": [
        "#Make blobs"
      ],
      "metadata": {
        "id": "wxPjzpIsSGA_"
      }
    },
    {
      "cell_type": "code",
      "source": [
        "features, true_labels = make_blobs(\n",
        "n_samples=300,\n",
        "centers=4,\n",
        "cluster_std=0.60,\n",
        "random_state=0\n",
        ")"
      ],
      "metadata": {
        "id": "Ob3XS5bIEf3v"
      },
      "execution_count": null,
      "outputs": []
    },
    {
      "cell_type": "code",
      "source": [
        "features[:10]"
      ],
      "metadata": {
        "colab": {
          "base_uri": "https://localhost:8080/"
        },
        "id": "vBgOzlxqFec6",
        "outputId": "2efe69ed-6dd1-4cac-b567-0bdf425e8f19"
      },
      "execution_count": null,
      "outputs": [
        {
          "output_type": "execute_result",
          "data": {
            "text/plain": [
              "array([[ 0.83685684,  2.13635938],\n",
              "       [-1.4136581 ,  7.40962324],\n",
              "       [ 1.15521298,  5.09961887],\n",
              "       [-1.01861632,  7.81491465],\n",
              "       [ 1.27135141,  1.89254207],\n",
              "       [ 3.43761754,  0.26165417],\n",
              "       [-1.80822253,  1.59701749],\n",
              "       [ 1.41372442,  4.38117707],\n",
              "       [-0.20493217,  8.43209665],\n",
              "       [-0.71109961,  8.66043846]])"
            ]
          },
          "metadata": {},
          "execution_count": 7
        }
      ]
    },
    {
      "cell_type": "code",
      "source": [
        "true_labels[:10]"
      ],
      "metadata": {
        "colab": {
          "base_uri": "https://localhost:8080/"
        },
        "id": "D91aeZjtFiHf",
        "outputId": "377bfcda-f15a-426b-c851-3d74e44b30b5"
      },
      "execution_count": null,
      "outputs": [
        {
          "output_type": "execute_result",
          "data": {
            "text/plain": [
              "array([1, 3, 0, 3, 1, 1, 2, 0, 3, 3])"
            ]
          },
          "metadata": {},
          "execution_count": 8
        }
      ]
    },
    {
      "cell_type": "code",
      "source": [
        "plt.scatter(features[:,0], features[:,1] , s=50)"
      ],
      "metadata": {
        "colab": {
          "base_uri": "https://localhost:8080/",
          "height": 283
        },
        "id": "7pfn4yvSFk52",
        "outputId": "11f5e581-711b-4bd9-fb7a-3808f9791d16"
      },
      "execution_count": null,
      "outputs": [
        {
          "output_type": "execute_result",
          "data": {
            "text/plain": [
              "<matplotlib.collections.PathCollection at 0x7efcbd59ac50>"
            ]
          },
          "metadata": {},
          "execution_count": 103
        },
        {
          "output_type": "display_data",
          "data": {
            "text/plain": [
              "<Figure size 432x288 with 1 Axes>"
            ],
            "image/png": "[encoded data removed]"
          },
          "metadata": {
            "needs_background": "light"
          }
        }
      ]
    },
    {
      "cell_type": "markdown",
      "source": [
        "##WSS score for elbow method"
      ],
      "metadata": {
        "id": "9XVqTbSwST-s"
      }
    },
    {
      "cell_type": "code",
      "source": [
        "from sklearn.cluster import KMeans\n",
        "\n",
        "# function returns WSS score for k values from 1 to kmax\n",
        "def calculate_WSS(points, kmax):\n",
        "  sse = []\n",
        "  for k in range(2, kmax+1):\n",
        "    kmeans = KMeans(n_clusters = k).fit(points)\n",
        "    centroids = kmeans.cluster_centers_\n",
        "    pred_clusters = kmeans.predict(points)\n",
        "    curr_sse = 0\n",
        "    \n",
        "    # calculate square of Euclidean distance of each point from its cluster center and add to current WSS\n",
        "    for i in range(len(points)):\n",
        "      curr_center = centroids[pred_clusters[i]]\n",
        "      curr_sse += (points[i, 0] - curr_center[0]) ** 2 + (points[i, 1] - curr_center[1]) ** 2\n",
        "      \n",
        "    sse.append(curr_sse)\n",
        "  return sse"
      ],
      "metadata": {
        "id": "DF41j1rsJiAu"
      },
      "execution_count": null,
      "outputs": []
    },
    {
      "cell_type": "code",
      "source": [
        "features[:5]"
      ],
      "metadata": {
        "colab": {
          "base_uri": "https://localhost:8080/"
        },
        "id": "Ow-BG1d2kD96",
        "outputId": "74a1519e-20c5-4bf1-b87e-60e70a8af6d3"
      },
      "execution_count": null,
      "outputs": [
        {
          "output_type": "execute_result",
          "data": {
            "text/plain": [
              "array([[ 0.83685684,  2.13635938],\n",
              "       [-1.4136581 ,  7.40962324],\n",
              "       [ 1.15521298,  5.09961887],\n",
              "       [-1.01861632,  7.81491465],\n",
              "       [ 1.27135141,  1.89254207]])"
            ]
          },
          "metadata": {},
          "execution_count": 9
        }
      ]
    },
    {
      "cell_type": "code",
      "source": [
        "kmax = 10\n",
        "points = features\n",
        "calculate_WSS(points, kmax)"
      ],
      "metadata": {
        "colab": {
          "base_uri": "https://localhost:8080/"
        },
        "id": "PzY5hV36J_3c",
        "outputId": "ce461604-4299-4d0e-9e15-90be8b991f65"
      },
      "execution_count": null,
      "outputs": [
        {
          "output_type": "execute_result",
          "data": {
            "text/plain": [
              "[1190.782359364345,\n",
              " 546.8911504626301,\n",
              " 212.00599621083475,\n",
              " 188.8298596631843,\n",
              " 170.74650631623723,\n",
              " 152.55764759252233,\n",
              " 136.2093636805517,\n",
              " 123.84720726272388,\n",
              " 112.29326074624186]"
            ]
          },
          "metadata": {},
          "execution_count": 105
        }
      ]
    },
    {
      "cell_type": "code",
      "source": [
        "sse = [1190.782359364345,\n",
        " 546.8911504626301,\n",
        " 212.00599621083475,\n",
        " 188.77323556773717,\n",
        " 170.66626309814242,\n",
        " 154.73013227312447,\n",
        " 136.40817056004119,\n",
        " 125.87981147299647,\n",
        " 112.091761751831]\n",
        "K = [2,3,4,5,6,7,8,9,10]\n",
        "plt.plot(K, sse, 'r-', lw=3, label=\"see Vs K\")\n",
        "plt.title(\"Elbow plot\")\n",
        "plt.legend()"
      ],
      "metadata": {
        "colab": {
          "base_uri": "https://localhost:8080/",
          "height": 299
        },
        "id": "S1c6DfVTKj-e",
        "outputId": "b6efe568-0eec-4ae3-b15a-ffa615d0a7e5"
      },
      "execution_count": null,
      "outputs": [
        {
          "output_type": "execute_result",
          "data": {
            "text/plain": [
              "<matplotlib.legend.Legend at 0x7efcbd513f10>"
            ]
          },
          "metadata": {},
          "execution_count": 106
        },
        {
          "output_type": "display_data",
          "data": {
            "text/plain": [
              "<Figure size 432x288 with 1 Axes>"
            ],
            "image/png": "[encoded data removed]"
          },
          "metadata": {
            "needs_background": "light"
          }
        }
      ]
    },
    {
      "cell_type": "markdown",
      "source": [
        "##silhouette_score for silhouette method"
      ],
      "metadata": {
        "id": "h8FBq8vXSdq_"
      }
    },
    {
      "cell_type": "code",
      "source": [
        "from sklearn.metrics import silhouette_score\n",
        "\n",
        "sil = []\n",
        "kmax = 10\n",
        "\n",
        "# dissimilarity would not be defined for a single cluster, thus, minimum number of clusters should be 2\n",
        "for k in range(2, kmax+1):\n",
        "  kmeans = KMeans(n_clusters = k).fit(features)\n",
        "  labels = kmeans.labels_\n",
        "  sil.append(silhouette_score(features, labels, metric = 'euclidean'))\n",
        "\n",
        "K = [2,3,4,5,6,7,8,9,10]\n",
        "plt.plot(K, sil, 'g-', lw=3, label=\"sil Vs K\")\n",
        "plt.title(\"Silhouette Method\")\n",
        "plt.legend()\n",
        "\n"
      ],
      "metadata": {
        "colab": {
          "base_uri": "https://localhost:8080/",
          "height": 299
        },
        "id": "WDFoku2rI1Kc",
        "outputId": "d242f18e-12f5-4ab4-be4f-6d6ae4ca283b"
      },
      "execution_count": null,
      "outputs": [
        {
          "output_type": "execute_result",
          "data": {
            "text/plain": [
              "<matplotlib.legend.Legend at 0x7efcbd439e50>"
            ]
          },
          "metadata": {},
          "execution_count": 107
        },
        {
          "output_type": "display_data",
          "data": {
            "text/plain": [
              "<Figure size 432x288 with 1 Axes>"
            ],
            "image/png": "[encoded data removed]"
          },
          "metadata": {
            "needs_background": "light"
          }
        }
      ]
    },
    {
      "cell_type": "markdown",
      "source": [
        "##Normalizing the features"
      ],
      "metadata": {
        "id": "qEzPHtoOSjMF"
      }
    },
    {
      "cell_type": "code",
      "source": [
        "scaler = StandardScaler()\n",
        "X = scaler.fit_transform(features)\n",
        "X[:5]"
      ],
      "metadata": {
        "colab": {
          "base_uri": "https://localhost:8080/"
        },
        "id": "s0LiSlQUO7H2",
        "outputId": "13f2847d-06b4-4663-a5fb-d48f8bcf9312"
      },
      "execution_count": null,
      "outputs": [
        {
          "output_type": "execute_result",
          "data": {
            "text/plain": [
              "array([[ 0.51625508, -0.70722723],\n",
              "       [-0.86166376,  1.3290677 ],\n",
              "       [ 0.71117444,  0.43704896],\n",
              "       [-0.61979222,  1.48557283],\n",
              "       [ 0.78228231, -0.8013784 ]])"
            ]
          },
          "metadata": {},
          "execution_count": 108
        }
      ]
    },
    {
      "cell_type": "markdown",
      "source": [
        "##Applying Kmeans clustering"
      ],
      "metadata": {
        "id": "zKei1WGaSnP8"
      }
    },
    {
      "cell_type": "code",
      "source": [
        "kmeans = KMeans(\n",
        "init=\"random\",\n",
        "n_clusters=4,\n",
        "n_init=10,\n",
        "max_iter=300,\n",
        "random_state=0\n",
        ")"
      ],
      "metadata": {
        "id": "0zLOOcJvGU_V"
      },
      "execution_count": null,
      "outputs": []
    },
    {
      "cell_type": "markdown",
      "source": [
        "init controls the initialization technique. The standard version of the k-means algorithm is implemented by setting init to \"random\". Setting this to \"k-means++\" employs an advanced trick to speed up convergence, which you’ll use later.\n",
        "\n",
        "n_clusters sets k for the clustering step. This is the most important parameter for k-means.\n",
        "\n",
        "n_init sets the number of initializations to perform. This is important because two runs can converge on different cluster assignments. The default behavior for the scikit-learn algorithm is to perform ten k-means runs and return the results of the one with the lowest SSE.\n",
        "\n",
        "max_iter sets the number of maximum iterations for each initialization of the k-means algorithm."
      ],
      "metadata": {
        "id": "otoE36o4GvvB"
      }
    },
    {
      "cell_type": "code",
      "source": [
        "kmeans.fit(X)"
      ],
      "metadata": {
        "colab": {
          "base_uri": "https://localhost:8080/"
        },
        "id": "LTTsvTS4Gkf8",
        "outputId": "9bb135d3-ddda-4ef7-ab85-4dee171ef615"
      },
      "execution_count": null,
      "outputs": [
        {
          "output_type": "execute_result",
          "data": {
            "text/plain": [
              "KMeans(init='random', n_clusters=4, random_state=0)"
            ]
          },
          "metadata": {},
          "execution_count": 111
        }
      ]
    },
    {
      "cell_type": "code",
      "source": [
        "kmeans.inertia_"
      ],
      "metadata": {
        "colab": {
          "base_uri": "https://localhost:8080/"
        },
        "id": "zOiQgFWoG3_F",
        "outputId": "30e001e1-8b73-440e-fa96-e257bcf2cf63"
      },
      "execution_count": null,
      "outputs": [
        {
          "output_type": "execute_result",
          "data": {
            "text/plain": [
              "56.0247705750995"
            ]
          },
          "metadata": {},
          "execution_count": 112
        }
      ]
    },
    {
      "cell_type": "code",
      "source": [
        "kmeans.cluster_centers_"
      ],
      "metadata": {
        "colab": {
          "base_uri": "https://localhost:8080/"
        },
        "id": "3eVeo5jgHICB",
        "outputId": "96f542e6-803b-41fb-d711-dc06b41b5ceb"
      },
      "execution_count": null,
      "outputs": [
        {
          "output_type": "execute_result",
          "data": {
            "text/plain": [
              "array([[-0.83691948,  1.46193015],\n",
              "       [ 0.58536699,  0.17425154],\n",
              "       [ 1.21774671, -1.19712077],\n",
              "       [-0.96619422, -0.43906093]])"
            ]
          },
          "metadata": {},
          "execution_count": 113
        }
      ]
    },
    {
      "cell_type": "code",
      "source": [
        "# The number of iterations required to converge\n",
        "kmeans.n_iter_"
      ],
      "metadata": {
        "colab": {
          "base_uri": "https://localhost:8080/"
        },
        "id": "Y3_rktn2HOFn",
        "outputId": "83169ef6-4e18-460b-c73c-2371bd49d24d"
      },
      "execution_count": null,
      "outputs": [
        {
          "output_type": "execute_result",
          "data": {
            "text/plain": [
              "6"
            ]
          },
          "metadata": {},
          "execution_count": 114
        }
      ]
    },
    {
      "cell_type": "code",
      "source": [
        "kmeans.labels_[:5]"
      ],
      "metadata": {
        "colab": {
          "base_uri": "https://localhost:8080/"
        },
        "id": "knVwJhpkHe6x",
        "outputId": "bae92915-389d-4646-c4b6-c0bd2b082b20"
      },
      "execution_count": null,
      "outputs": [
        {
          "output_type": "execute_result",
          "data": {
            "text/plain": [
              "array([2, 0, 1, 0, 2], dtype=int32)"
            ]
          },
          "metadata": {},
          "execution_count": 115
        }
      ]
    },
    {
      "cell_type": "code",
      "source": [
        "y_kmeans = kmeans.predict(X)\n",
        "y_kmeans[:5]"
      ],
      "metadata": {
        "colab": {
          "base_uri": "https://localhost:8080/"
        },
        "id": "VkdNmOCcHsP-",
        "outputId": "02e39ac7-4880-4912-cc09-c8a11dd525bd"
      },
      "execution_count": null,
      "outputs": [
        {
          "output_type": "execute_result",
          "data": {
            "text/plain": [
              "array([2, 0, 1, 0, 2], dtype=int32)"
            ]
          },
          "metadata": {},
          "execution_count": 117
        }
      ]
    },
    {
      "cell_type": "markdown",
      "source": [
        "##Visualizing the results"
      ],
      "metadata": {
        "id": "NS6LG3gjSsEA"
      }
    },
    {
      "cell_type": "code",
      "source": [
        "plt.scatter(X[:, 0], X[:, 1], c=y_kmeans, s=50, cmap='viridis')\n",
        "\n",
        "centers = kmeans.cluster_centers_\n",
        "plt.scatter(centers[:, 0], centers[:, 1], c='black', s=200, alpha=0.5);"
      ],
      "metadata": {
        "colab": {
          "base_uri": "https://localhost:8080/",
          "height": 265
        },
        "id": "f6ZguqtjHz5R",
        "outputId": "020e3f5d-e2e8-49d5-d05a-f0fa72cd087f"
      },
      "execution_count": null,
      "outputs": [
        {
          "output_type": "display_data",
          "data": {
            "text/plain": [
              "<Figure size 432x288 with 1 Axes>"
            ],
            "image/png": "[encoded data removed]"
          },
          "metadata": {
            "needs_background": "light"
          }
        }
      ]
    },
    {
      "cell_type": "code",
      "source": [],
      "metadata": {
        "id": "gJBJIzjpH6J-"
      },
      "execution_count": null,
      "outputs": []
    }
  ]
}